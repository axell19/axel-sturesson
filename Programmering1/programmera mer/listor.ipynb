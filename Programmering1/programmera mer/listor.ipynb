{
 "metadata": {
  "language_info": {
   "codemirror_mode": {
    "name": "ipython",
    "version": 3
   },
   "file_extension": ".py",
   "mimetype": "text/x-python",
   "name": "python",
   "nbconvert_exporter": "python",
   "pygments_lexer": "ipython3",
   "version": "3.8.3-final"
  },
  "orig_nbformat": 2,
  "kernelspec": {
   "name": "python3",
   "display_name": "Python 3"
  }
 },
 "nbformat": 4,
 "nbformat_minor": 2,
 "cells": [
  {
   "cell_type": "code",
   "execution_count": 11,
   "metadata": {},
   "outputs": [
    {
     "output_type": "stream",
     "name": "stdout",
     "text": [
      "frukter[1]: banan\nfrukter[1:3]: ['banan', 'päron']\näpple\nbanan\npäron\njordgubbe\nhallon\nkiwi\n"
     ]
    }
   ],
   "source": [
    "# indexering\n",
    "frukter = [\"äpple\", \"banan\", \"päron\", \"jordgubbe\", \"hallon\", \"kiwi\"]\n",
    "print(f\"frukter[1]: {frukter[1]}\")\n",
    "# skivoperator\n",
    "print(f\"frukter[1:3]: {frukter[1:3]}\")\n",
    "#loopa igenom listan\n",
    "for frukt in frukter:\n",
    "    print(frukt)\n"
   ]
  },
  {
   "cell_type": "code",
   "execution_count": 14,
   "metadata": {},
   "outputs": [
    {
     "output_type": "stream",
     "name": "stdout",
     "text": [
      "['äpple', 'banan', 'päron', 'jordgubbe', 'hallon', 'kiwi', 'sallad', 'gurka', 'tomat']\n"
     ]
    }
   ],
   "source": [
    "frukter = [\"äpple\", \"banan\", \"päron\", \"jordgubbe\", \"hallon\", \"kiwi\"]\n",
    "grönsaker = [\"sallad\", \"gurka\", \"tomat\"]\n",
    "\n",
    "fruktsallad = frukter\n",
    "\n",
    "for grönsak in grönsaker:\n",
    "    fruktsallad.append(grönsak)\n",
    "\n",
    "print(fruktsallad)"
   ]
  },
  {
   "cell_type": "code",
   "execution_count": null,
   "metadata": {},
   "outputs": [],
   "source": []
  }
 ]
}