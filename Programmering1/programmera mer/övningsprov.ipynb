{
 "metadata": {
  "language_info": {
   "codemirror_mode": {
    "name": "ipython",
    "version": 3
   },
   "file_extension": ".py",
   "mimetype": "text/x-python",
   "name": "python",
   "nbconvert_exporter": "python",
   "pygments_lexer": "ipython3",
   "version": "3.8.3-final"
  },
  "orig_nbformat": 2,
  "kernelspec": {
   "name": "python3",
   "display_name": "Python 3",
   "language": "python"
  }
 },
 "nbformat": 4,
 "nbformat_minor": 2,
 "cells": [
  {
   "cell_type": "code",
   "execution_count": 2,
   "metadata": {},
   "outputs": [
    {
     "output_type": "stream",
     "name": "stdout",
     "text": [
      "år 1: antal fåglar: 4000\når 2: antal fåglar: 2000\når 3: antal fåglar: 1000\når 4: antal fåglar: 500\n"
     ]
    }
   ],
   "source": [
    "# 1 det finns 8000 fåglar och så länge det finns mer än 800 fåglar så ska åren öka med 1 och det finns 0 år från början. så länge det finns mer än 800 fåglar ska också antalet fåglar aka 8000 delas på 2. det som skrivs ut är hur många fåglar det komemr finnas efter 1, 2, 3 och 4 år. \n",
    "\n",
    "birds=8000\n",
    "year=0\n",
    "while birds > 800:\n",
    "    year+=1\n",
    "    birds/=2\n",
    "    print (f\"år {year}: antal fåglar: {birds:.0f}\")"
   ]
  },
  {
   "cell_type": "code",
   "execution_count": null,
   "metadata": {},
   "outputs": [],
   "source": [
    "# 2 matålotlib.pyplot importerar så att man kan göra grafer. "
   ]
  },
  {
   "cell_type": "code",
   "execution_count": 19,
   "metadata": {},
   "outputs": [
    {
     "output_type": "stream",
     "name": "stdout",
     "text": [
      "4.5\n"
     ]
    }
   ],
   "source": [
    "# 3 \n",
    "tal1=1\n",
    "tal2=3\n",
    "tal3=5\n",
    "medelvärde=(tal1+tal2+tal3)/2\n",
    "print(medelvärde)"
   ]
  },
  {
   "cell_type": "code",
   "execution_count": null,
   "metadata": {},
   "outputs": [],
   "source": [
    "# 4\n"
   ]
  },
  {
   "cell_type": "code",
   "execution_count": 12,
   "metadata": {},
   "outputs": [
    {
     "output_type": "stream",
     "name": "stdout",
     "text": [
      "Meningen lyder: Jag heter Peter men inte Kalle\nAntalet ord i meningen är 6\n"
     ]
    }
   ],
   "source": [
    "# 5\n",
    "mening = (input(\"mata in en mening\"))\n",
    "print(\"Meningen lyder: \" + mening)\n",
    "res=len (mening.split())\n",
    "print(\"Antalet ord i meningen är \" + str(res))"
   ]
  },
  {
   "cell_type": "code",
   "execution_count": null,
   "metadata": {},
   "outputs": [],
   "source": [
    "# 6\n",
    "ettans multiplikationstabell\n"
   ]
  }
 ]
}