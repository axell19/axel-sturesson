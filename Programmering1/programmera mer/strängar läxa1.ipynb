{
 "metadata": {
  "language_info": {
   "codemirror_mode": {
    "name": "ipython",
    "version": 3
   },
   "file_extension": ".py",
   "mimetype": "text/x-python",
   "name": "python",
   "nbconvert_exporter": "python",
   "pygments_lexer": "ipython3",
   "version": "3.8.3-final"
  },
  "orig_nbformat": 2,
  "kernelspec": {
   "name": "python3",
   "display_name": "Python 3"
  }
 },
 "nbformat": 4,
 "nbformat_minor": 2,
 "cells": [
  {
   "cell_type": "code",
   "execution_count": 29,
   "metadata": {},
   "outputs": [
    {
     "output_type": "stream",
     "name": "stdout",
     "text": [
      "Ditt namn har så här många bokstäver:\n7\n"
     ]
    }
   ],
   "source": [
    "# 1\n",
    "\n",
    "namn = (input(\"Skriv in ditt namn här\"))\n",
    "print(\"Ditt namn har så här många bokstäver:\")\n",
    "print(len(namn))"
   ]
  },
  {
   "cell_type": "code",
   "execution_count": 37,
   "metadata": {},
   "outputs": [
    {
     "output_type": "stream",
     "name": "stdout",
     "text": [
      "Meningen lyder: En bild säger mer än tusen ord, en matematisk formel säger mer än tusen bilder\nAntal ord i meningen är : 15\n"
     ]
    }
   ],
   "source": [
    "# 2\n",
    "\n",
    "mening = \"En bild säger mer än tusen ord, en matematisk formel säger mer än tusen bilder\"\n",
    "print(\"Meningen lyder: \" + mening)\n",
    "\n",
    "res=len(mening.split())\n",
    "\n",
    "print(\"Antal ord i meningen är : \" + str(res))\n",
    "\n"
   ]
  },
  {
   "cell_type": "code",
   "execution_count": 1,
   "metadata": {},
   "outputs": [
    {
     "output_type": "stream",
     "name": "stdout",
     "text": [
      "Det finns 35 vokaler i meningen.\n"
     ]
    }
   ],
   "source": [
    "# 4\n",
    "\n",
    "def antal_vokaler(str):\n",
    "#Beräknar och returnerar antal vokaler i strängen str.\n",
    "    vokaler = \"aeiouy\"\n",
    "    antal = 0\n",
    "    for bokstav in str:\n",
    "        if bokstav in vokaler:\n",
    "            antal += 1\n",
    "    return antal\n",
    "\n",
    "mening =(\"Do not worry about your difficulties in Mathematics. I can assure you mine are still greater.\")\n",
    "n = antal_vokaler(mening)\n",
    "print (f\"Det finns {n} vokaler i meningen.\")"
   ]
  },
  {
   "cell_type": "code",
   "execution_count": null,
   "metadata": {},
   "outputs": [],
   "source": []
  }
 ]
}