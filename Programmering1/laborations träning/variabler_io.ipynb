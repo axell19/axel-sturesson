{
 "metadata": {
  "language_info": {
   "codemirror_mode": {
    "name": "ipython",
    "version": 3
   },
   "file_extension": ".py",
   "mimetype": "text/x-python",
   "name": "python",
   "nbconvert_exporter": "python",
   "pygments_lexer": "ipython3",
   "version": "3.8.3-final"
  },
  "orig_nbformat": 2,
  "kernelspec": {
   "name": "python3",
   "display_name": "Python 3"
  }
 },
 "nbformat": 4,
 "nbformat_minor": 2,
 "cells": [
  {
   "cell_type": "code",
   "execution_count": 8,
   "metadata": {
    "tags": []
   },
   "outputs": [
    {
     "output_type": "stream",
     "name": "stdout",
     "text": "56.0 Kelvin = -217.15 Celsius\n"
    }
   ],
   "source": [
    "K = float(input(\"Ange en temperatur i Kelvin \"))\n",
    "\n",
    "C = K-273.15\n",
    "\n",
    "print(f\"{K} Kelvin = {C:.2f} Celsius\")"
   ]
  },
  {
   "cell_type": "code",
   "execution_count": 3,
   "metadata": {
    "tags": []
   },
   "outputs": [
    {
     "output_type": "stream",
     "name": "stdout",
     "text": "33.0 Celsius = 306.15 Kelvin\n"
    }
   ],
   "source": [
    "C = float(input(\"Ange en temperatur i Celsius\"))\n",
    "\n",
    "K = C+273.15\n",
    "\n",
    "print(f\"{C} Celsius = {K:.2f} Kelvin\")"
   ]
  },
  {
   "cell_type": "code",
   "execution_count": 9,
   "metadata": {
    "tags": []
   },
   "outputs": [
    {
     "output_type": "stream",
     "name": "stdout",
     "text": "Om du betalar engångsbiljett kostar det 150.0kr\nMer värt att köpa engångsbiljett\n"
    }
   ],
   "source": [
    "A = float(input(\"Hur många gånger åker du buss under en månad?\"))\n",
    "\n",
    "EB = A*30\n",
    "\n",
    "MB = 775\n",
    "\n",
    "print(f\"Om du betalar engångsbiljett kostar det {EB}kr\")\n",
    "\n",
    "# kommentar\n",
    "if EB > MB:\n",
    "    print(f\"Mer värt att köpa månadskort\")\n",
    "\n",
    "if MB > EB:\n",
    "    print(f\"Mer värt att köpa engångsbiljett\")"
   ]
  },
  {
   "cell_type": "code",
   "execution_count": null,
   "metadata": {},
   "outputs": [],
   "source": []
  }
 ]
}