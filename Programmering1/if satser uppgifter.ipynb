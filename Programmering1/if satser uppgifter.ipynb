{
 "metadata": {
  "language_info": {
   "codemirror_mode": {
    "name": "ipython",
    "version": 3
   },
   "file_extension": ".py",
   "mimetype": "text/x-python",
   "name": "python",
   "nbconvert_exporter": "python",
   "pygments_lexer": "ipython3",
   "version": "3.8.3-final"
  },
  "orig_nbformat": 2,
  "kernelspec": {
   "name": "python_defaultSpec_1600248521588",
   "display_name": "Python 3.8.3 64-bit ('base': conda)"
  }
 },
 "nbformat": 4,
 "nbformat_minor": 2,
 "cells": [
  {
   "cell_type": "code",
   "execution_count": 11,
   "metadata": {
    "tags": []
   },
   "outputs": [
    {
     "output_type": "stream",
     "name": "stdout",
     "text": "Positivt tal\n"
    }
   ],
   "source": [
    "Tal = int(input(\"Ange ett heltal\"))\n",
    "\n",
    "if Tal > 0:\n",
    "    print(\"Positivt tal\")\n",
    "elif Tal == 0:\n",
    "    print(\"noll\")\n",
    "else:\n",
    "    print(\"Negativt tal\")"
   ]
  },
  {
   "cell_type": "code",
   "execution_count": 20,
   "metadata": {
    "tags": []
   },
   "outputs": [
    {
     "output_type": "stream",
     "name": "stdout",
     "text": "Talet är jämnt\n"
    }
   ],
   "source": [
    "Tal = int(input(\"Ange ett tal\"))\n",
    "\n",
    "if Tal%2 == 0: \n",
    "    print(\"Talet är jämnt\")\n",
    "else:\n",
    "    print(\"Talet är udda\")"
   ]
  },
  {
   "cell_type": "code",
   "execution_count": 23,
   "metadata": {
    "tags": []
   },
   "outputs": [
    {
     "output_type": "stream",
     "name": "stdout",
     "text": "Tal1 är det största talet\n"
    }
   ],
   "source": [
    "Tal1 = int(input(\"Ange ett heltal\"))\n",
    "Tal2 = int(input(\"Ange ett heltal\"))\n",
    "\n",
    "if Tal1 > Tal2:\n",
    "    print(\"Tal1 är det största talet\")\n",
    "else:\n",
    "    print(\"Tal2 är det största talet\")"
   ]
  },
  {
   "cell_type": "code",
   "execution_count": null,
   "metadata": {},
   "outputs": [],
   "source": []
  }
 ]
}