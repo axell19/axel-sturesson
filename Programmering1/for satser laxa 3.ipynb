{
 "metadata": {
  "language_info": {
   "codemirror_mode": {
    "name": "ipython",
    "version": 3
   },
   "file_extension": ".py",
   "mimetype": "text/x-python",
   "name": "python",
   "nbconvert_exporter": "python",
   "pygments_lexer": "ipython3",
   "version": "3.8.3-final"
  },
  "orig_nbformat": 2,
  "kernelspec": {
   "name": "Python 3.8.3 64-bit ('base': conda)",
   "display_name": "Python 3.8.3 64-bit ('base': conda)",
   "metadata": {
    "interpreter": {
     "hash": "212a70ff410785b4e58e73e309c1ce5e8d937ee79710f9635d8054acf54346b9"
    }
   }
  }
 },
 "nbformat": 4,
 "nbformat_minor": 2,
 "cells": [
  {
   "cell_type": "code",
   "execution_count": 3,
   "metadata": {
    "tags": []
   },
   "outputs": [
    {
     "output_type": "stream",
     "name": "stdout",
     "text": "Circelns area är 56.52\n"
    }
   ],
   "source": [
    "r= float(input(\"Skriv längden för radien\"))\n",
    "\n",
    "if r < 0:\n",
    "    print(\"Error! Radien kan inte ha en negativ längd\")\n",
    "\n",
    "A = 3.14*r**2/2\n",
    "print(f\"Circelns area är {A}\")"
   ]
  },
  {
   "cell_type": "code",
   "execution_count": 11,
   "metadata": {
    "tags": []
   },
   "outputs": [
    {
     "output_type": "stream",
     "name": "stdout",
     "text": "1 2 3 4 5 6 7 8 9 10 "
    }
   ],
   "source": [
    "for i in range(1,11):\n",
    "    print(i, end=\" \")\n",
    "\n"
   ]
  },
  {
   "cell_type": "code",
   "execution_count": 12,
   "metadata": {
    "tags": []
   },
   "outputs": [
    {
     "output_type": "stream",
     "name": "stdout",
     "text": "-10 -9 -8 -7 -6 -5 -4 -3 -2 -1 0 1 2 3 4 5 6 7 8 9 10 "
    }
   ],
   "source": [
    "for n in range(-10,11):\n",
    "    print(n, end=\" \")"
   ]
  },
  {
   "cell_type": "code",
   "execution_count": 23,
   "metadata": {
    "tags": []
   },
   "outputs": [
    {
     "output_type": "stream",
     "name": "stdout",
     "text": "10 9 8 7 6 5 4 3 2 1 0 "
    }
   ],
   "source": [
    "for j in range(0,11):\n",
    "    print(10-j, end=\" \")"
   ]
  },
  {
   "cell_type": "code",
   "execution_count": 44,
   "metadata": {
    "tags": []
   },
   "outputs": [
    {
     "output_type": "stream",
     "name": "stdout",
     "text": "1 3 6 10 15 21 28 36 45 55 66 78 91 105 120 136 153 171 190 210 231 253 276 300 325 351 378 406 435 465 496 528 561 595 630 666 703 741 780 820 861 903 946 990 1035 1081 1128 1176 1225 1275 1326 1378 1431 1485 1540 1596 1653 1711 1770 1830 1891 1953 2016 2080 2145 2211 2278 2346 2415 2485 2556 2628 2701 2775 2850 2926 3003 3081 3160 3240 3321 3403 3486 3570 3655 3741 3828 3916 4005 4095 4186 4278 4371 4465 4560 4656 4753 4851 4950 5050 "
    }
   ],
   "source": [
    "s = 0\n",
    "\n",
    "for i in range(1,101):\n",
    "    s += i\n",
    "    print(s, end=\" \")"
   ]
  },
  {
   "cell_type": "code",
   "execution_count": 7,
   "metadata": {},
   "outputs": [
    {
     "output_type": "stream",
     "name": "stdout",
     "text": [
      "Fel! för högt\n",
      "Fel! för högt\n",
      "Fel! för lågt\n",
      "Fel! för lågt\n",
      "Fel! för lågt\n",
      "Fel! för högt\n",
      "Fel! för högt\n",
      "Fel! för högt\n",
      "Fel! för högt\n",
      "Fel! för högt\n",
      "Fel! för högt\n",
      "Fel! för lågt\n",
      "Fel! för högt\n",
      "Fel! för högt\n",
      "Fel! för lågt\n",
      "Fel! för lågt\n",
      "Grattis! du gissade rätt!\n"
     ]
    }
   ],
   "source": [
    "import random as rmd\n",
    "\n",
    "nummer = rmd.randint(1,100)\n",
    "\n",
    "n = input(\"sätt in nummer\")\n",
    "\n",
    "while n != nummer:\n",
    "    n = int(input(\"Gissa ett heltal mellan 0 och 100:\"))\n",
    "    if n < nummer:\n",
    "        print(\"Fel! för lågt\")\n",
    "    elif n > nummer:\n",
    "        print(\"Fel! för högt\")\n",
    "    else:\n",
    "        print(\"Grattis! du gissade rätt!\")\n",
    "    \n"
   ]
  },
  {
   "cell_type": "code",
   "execution_count": null,
   "metadata": {},
   "outputs": [],
   "source": []
  }
 ]
}