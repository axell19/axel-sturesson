{
 "metadata": {
  "language_info": {
   "codemirror_mode": {
    "name": "ipython",
    "version": 3
   },
   "file_extension": ".py",
   "mimetype": "text/x-python",
   "name": "python",
   "nbconvert_exporter": "python",
   "pygments_lexer": "ipython3",
   "version": "3.8.3-final"
  },
  "orig_nbformat": 2,
  "kernelspec": {
   "name": "Python 3.8.3 64-bit (conda)",
   "display_name": "Python 3.8.3 64-bit (conda)",
   "metadata": {
    "interpreter": {
     "hash": "212a70ff410785b4e58e73e309c1ce5e8d937ee79710f9635d8054acf54346b9"
    }
   }
  }
 },
 "nbformat": 4,
 "nbformat_minor": 2,
 "cells": [
  {
   "cell_type": "code",
   "execution_count": 2,
   "metadata": {
    "tags": []
   },
   "outputs": [
    {
     "output_type": "stream",
     "name": "stdout",
     "text": [
      "5050\n"
     ]
    }
   ],
   "source": [
    "s,n=0,0\n",
    "while n<100:\n",
    "    n+=1\n",
    "    s+=n\n",
    "print(s)"
   ]
  },
  {
   "cell_type": "code",
   "execution_count": 2,
   "metadata": {
    "tags": []
   },
   "outputs": [
    {
     "output_type": "stream",
     "name": "stdout",
     "text": "2550\n"
    }
   ],
   "source": [
    "s,n=0,0\n",
    "while n<99:\n",
    "    n+=2\n",
    "    s+=n\n",
    "print(s)"
   ]
  },
  {
   "cell_type": "code",
   "execution_count": 5,
   "metadata": {
    "tags": []
   },
   "outputs": [
    {
     "output_type": "stream",
     "name": "stdout",
     "text": "Det tar 5 timmar\n"
    }
   ],
   "source": [
    "bakterier= 1500000\n",
    "förändringsfaktor=1.5\n",
    "timmar=0\n",
    "\n",
    "while bakterier < 10000000:\n",
    "    bakterier = bakterier*förändringsfaktor\n",
    "    timmar+=1\n",
    "\n",
    "print(f\"Det tar {timmar} timmar\")\n"
   ]
  },
  {
   "cell_type": "code",
   "execution_count": 5,
   "metadata": {},
   "outputs": [
    {
     "output_type": "stream",
     "name": "stdout",
     "text": [
      "Fel! för högt\n",
      "Fel! för högt\n",
      "Fel! för högt\n",
      "Fel! för högt\n",
      "Fel! för högt\n",
      "Fel! för högt\n",
      "Fel! för högt\n",
      "Fel! för högt\n",
      "Fel! för lågt\n",
      "Fel! för lågt\n",
      "Fel! för högt\n",
      "Fel! för lågt\n",
      "Fel! för lågt\n",
      "Fel! för lågt\n",
      "Fel! för lågt\n",
      "Fel! för högt\n",
      "Grattis! du gissade rätt!\n"
     ]
    }
   ],
   "source": [
    "import random as rmd\n",
    "\n",
    "nummer = rmd.randint(1,100)\n",
    "\n",
    "n = input(\"sätt in nummer\")\n",
    "\n",
    "while n != nummer:\n",
    "    n = int(input(\"Gissa ett heltal mellan 0 och 100:\"))\n",
    "    if n < nummer:\n",
    "        print(\"Fel! för lågt\")\n",
    "    elif n > nummer:\n",
    "        print(\"Fel! för högt\")\n",
    "    else:\n",
    "        print(\"Grattis! du gissade rätt!\")\n",
    "\n",
    "\n",
    "\n",
    "\n",
    "\n"
   ]
  },
  {
   "cell_type": "code",
   "execution_count": null,
   "metadata": {},
   "outputs": [],
   "source": []
  }
 ]
}