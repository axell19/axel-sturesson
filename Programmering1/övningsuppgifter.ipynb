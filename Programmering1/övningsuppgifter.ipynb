{
 "metadata": {
  "language_info": {
   "codemirror_mode": {
    "name": "ipython",
    "version": 3
   },
   "file_extension": ".py",
   "mimetype": "text/x-python",
   "name": "python",
   "nbconvert_exporter": "python",
   "pygments_lexer": "ipython3",
   "version": "3.8.3-final"
  },
  "orig_nbformat": 2,
  "kernelspec": {
   "name": "Python 3.8.3 64-bit ('base': conda)",
   "display_name": "Python 3.8.3 64-bit ('base': conda)",
   "metadata": {
    "interpreter": {
     "hash": "212a70ff410785b4e58e73e309c1ce5e8d937ee79710f9635d8054acf54346b9"
    }
   }
  }
 },
 "nbformat": 4,
 "nbformat_minor": 2,
 "cells": [
  {
   "cell_type": "code",
   "execution_count": 16,
   "metadata": {},
   "outputs": [
    {
     "output_type": "stream",
     "name": "stdout",
     "text": [
      "punkten ligger i kvadrant3\n"
     ]
    }
   ],
   "source": [
    "x = int(input(\"mata in ett x värde\"))\n",
    "y = int(input(\"mata in ett y värde\"))\n",
    "\n",
    "if x > 0 and y > 0:\n",
    "    print(\"punkten ligger i kvadrant1\")\n",
    "\n",
    "elif x < 0 and y > 0:\n",
    "    print(\"punkten ligger i kvadrant2\")\n",
    "\n",
    "elif x < 0 and y < 0:\n",
    "    print(\"punkten ligger i kvadrant3\")\n",
    "\n",
    "elif x > 0 and y < 0:\n",
    "    print(\"punkten ligger i kvadrant4\")\n",
    "\n",
    "else:\n",
    "    print(\"punkten ligger på en linje\")"
   ]
  },
  {
   "cell_type": "code",
   "execution_count": null,
   "metadata": {},
   "outputs": [],
   "source": [
    "vikt = int(input(\"mata in vikten på baggaget\"))\n",
    "bredd = int(input(\"mata in bredden på baggaget\"))\n",
    "längd = int(input(\"mata in länged på baggaget\"))\n",
    "höjd = int(input(\"mata in höjden på baggaget\"))\n",
    "\n",
    "if vikt > 8kg and \n"
   ]
  }
 ]
}