{
 "metadata": {
  "language_info": {
   "codemirror_mode": {
    "name": "ipython",
    "version": 3
   },
   "file_extension": ".py",
   "mimetype": "text/x-python",
   "name": "python",
   "nbconvert_exporter": "python",
   "pygments_lexer": "ipython3",
   "version": "3.8.3-final"
  },
  "orig_nbformat": 2,
  "kernelspec": {
   "name": "Python 3.8.3 64-bit (conda)",
   "display_name": "Python 3.8.3 64-bit (conda)",
   "metadata": {
    "interpreter": {
     "hash": "212a70ff410785b4e58e73e309c1ce5e8d937ee79710f9635d8054acf54346b9"
    }
   }
  }
 },
 "nbformat": 4,
 "nbformat_minor": 2,
 "cells": [
  {
   "cell_type": "code",
   "execution_count": 3,
   "metadata": {},
   "outputs": [
    {
     "output_type": "stream",
     "name": "stdout",
     "text": [
      "Arean blir 64\nSidorna är lika långa så det blir en kvadrat\n"
     ]
    }
   ],
   "source": [
    "sida1 = int(input(\"skriv in rektangelns ena sida i cm\"))\n",
    "sida2 = int(input(\"skriv in rektangelns andra sida i cm\"))\n",
    "\n",
    "\n",
    "area = sida1*sida2\n",
    "print(f\"Arean blir {area}\")\n",
    "if sida1 == sida2:\n",
    "    print(\"Sidorna är lika långa så det blir en kvadrat\")\n"
   ]
  },
  {
   "cell_type": "code",
   "execution_count": null,
   "metadata": {},
   "outputs": [],
   "source": []
  }
 ]
}